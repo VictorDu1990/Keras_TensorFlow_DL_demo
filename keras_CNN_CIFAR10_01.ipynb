{
  "nbformat": 4,
  "nbformat_minor": 0,
  "metadata": {
    "colab": {
      "name": "keras_CNN_CIFAR10_01.ipynb",
      "version": "0.3.2",
      "provenance": [],
      "collapsed_sections": [],
      "include_colab_link": true
    },
    "kernelspec": {
      "name": "python3",
      "display_name": "Python 3"
    }
  },
  "cells": [
    {
      "cell_type": "markdown",
      "metadata": {
        "id": "view-in-github",
        "colab_type": "text"
      },
      "source": [
        "<a href=\"https://colab.research.google.com/github/VictorDu1990/Keras_TensorFlow_DL_demo/blob/master/keras_CNN_CIFAR10_01.ipynb\" target=\"_parent\"><img src=\"https://colab.research.google.com/assets/colab-badge.svg\" alt=\"Open In Colab\"/></a>"
      ]
    },
    {
      "cell_type": "code",
      "metadata": {
        "id": "Cy0Nlg9edJby",
        "colab_type": "code",
        "outputId": "1b66bd1d-4ece-4438-f661-87542c731325",
        "colab": {
          "base_uri": "https://localhost:8080/",
          "height": 34
        }
      },
      "source": [
        "#CIFAR-10数据下载与分析\n",
        "#一、数据预处理\n",
        "from keras.datasets import cifar10\n",
        "from keras.utils import np_utils\n",
        "import numpy as np\n",
        "np.random.seed(10)"
      ],
      "execution_count": 0,
      "outputs": [
        {
          "output_type": "stream",
          "text": [
            "Using TensorFlow backend.\n"
          ],
          "name": "stderr"
        }
      ]
    },
    {
      "cell_type": "code",
      "metadata": {
        "id": "KEZ4IaUNd0dL",
        "colab_type": "code",
        "outputId": "b1fe185e-20d4-4df5-aa88-50adc0ee8bc4",
        "colab": {
          "base_uri": "https://localhost:8080/",
          "height": 34
        }
      },
      "source": [
        "(x_img_train, y_label_train),(x_img_test, x_label_test) = cifar10.load_data()\n",
        "x_img_train.shape\n",
        "#y_label_train.shape"
      ],
      "execution_count": 0,
      "outputs": [
        {
          "output_type": "execute_result",
          "data": {
            "text/plain": [
              "(50000, 32, 32, 3)"
            ]
          },
          "metadata": {
            "tags": []
          },
          "execution_count": 3
        }
      ]
    },
    {
      "cell_type": "code",
      "metadata": {
        "id": "ORY901-qe6Ud",
        "colab_type": "code",
        "colab": {}
      },
      "source": [
        "label_dict = {0:\"airplane\", 1:\"automobile\", 2:\"bird\", 3:\"cat\", 4:\"deer\", \n",
        "             5:\"dog\", 6:\"frog\", 7:\"horse\", 8:\"ship\", 9:\"truck\"}\n",
        "\n",
        "%matplotlib inline\n",
        "import matplotlib.pyplot as plt\n",
        "def plot_images_labels_prediction(images, labels, prediction, idx, num=10):\n",
        "  fig = gcf()\n",
        "  fig.set_size_inches(12, 14)\n",
        "  if num > 25: num=25\n",
        "  for i in range(0, num):\n",
        "    ax = plt.subplot(5,5,1+i)\n",
        "    ax.imshow(images[idx], cmap='binary')\n",
        "    title = str(i)+','+label_dict[labels[i][0]]\n",
        "    \n",
        "    if len(prediction) > 0:\n",
        "      title += '=>'+label_dict[prediction[i]]\n",
        "    ax.set_title(title, fontsize=10)\n",
        "    ax.set_xticks([])\n",
        "    ax.set_yticks([])\n",
        "    idx += 1\n",
        "    \n",
        "  plt.show()\n",
        "  "
      ],
      "execution_count": 0,
      "outputs": []
    },
    {
      "cell_type": "code",
      "metadata": {
        "id": "RwCCNYnFiLC2",
        "colab_type": "code",
        "colab": {}
      },
      "source": [
        "#一、数据预处理\n",
        "from keras.datasets import mnist\n",
        "from keras.utils import np_utils\n",
        "import numpy as np\n",
        "np.random.seed(10)\n",
        "\n",
        "(x_img_train, y_label_train),(x_img_test, y_label_test) = cifar10.load_data()\n",
        "\n",
        "x_img_train_normalize = x_img_train.astype('float32') / 255.0\n",
        "x_img_test_normalize = x_img_test.astype('float32') / 255.0\n",
        "\n",
        "y_label_train_OneHot = np_utils.to_categorical(y_label_train)\n",
        "y_label_test_OneHot = np_utils.to_categorical(y_label_test)\n"
      ],
      "execution_count": 0,
      "outputs": []
    },
    {
      "cell_type": "code",
      "metadata": {
        "id": "j596IefiiLTF",
        "colab_type": "code",
        "outputId": "f6c073cf-0c29-4285-e672-eb959202f338",
        "colab": {
          "base_uri": "https://localhost:8080/",
          "height": 615
        }
      },
      "source": [
        "#二、建立模型\n",
        "from keras.models import Sequential\n",
        "from keras.layers import Dense, Dropout, Flatten, Conv2D, MaxPooling2D, Activation, ZeroPadding2D\n",
        "\n",
        "def CNN_Net():\n",
        "\t# 定义模型\n",
        "    model = Sequential()\n",
        "    # conv1\n",
        "    model.add(Conv2D(32,(3,3),strides=(1,1),input_shape=(32,32,3),padding='same',activation='relu',kernel_initializer='uniform'))\n",
        "    #dropout\n",
        "    model.add(Dropout(0.25))\n",
        "    # max1\n",
        "    model.add(MaxPooling2D(pool_size=(2,2)))\n",
        "    # conv2\n",
        "    model.add(Conv2D(64,(3,3),strides=(1,1),padding='same',activation='relu',kernel_initializer='uniform'))\n",
        "    #dropout\n",
        "    model.add(Dropout(0.25))\n",
        "    # max2\n",
        "    model.add(MaxPooling2D(pool_size=(2,2)))\n",
        "    # 多通道压平\n",
        "    model.add(Flatten())\n",
        "    # fc1\n",
        "    model.add(Dense(1024,activation='relu'))\n",
        "    #dropout\n",
        "    model.add(Dropout(0.25))\n",
        "    # fc2\n",
        "    model.add(Dense(10,activation='softmax'))\n",
        "    return model\n",
        "\n",
        "model = CNN_Net()\n",
        "print(model.summary())"
      ],
      "execution_count": 0,
      "outputs": [
        {
          "output_type": "stream",
          "text": [
            "WARNING:tensorflow:From /usr/local/lib/python3.6/dist-packages/tensorflow/python/framework/op_def_library.py:263: colocate_with (from tensorflow.python.framework.ops) is deprecated and will be removed in a future version.\n",
            "Instructions for updating:\n",
            "Colocations handled automatically by placer.\n",
            "WARNING:tensorflow:From /usr/local/lib/python3.6/dist-packages/keras/backend/tensorflow_backend.py:3445: calling dropout (from tensorflow.python.ops.nn_ops) with keep_prob is deprecated and will be removed in a future version.\n",
            "Instructions for updating:\n",
            "Please use `rate` instead of `keep_prob`. Rate should be set to `rate = 1 - keep_prob`.\n",
            "_________________________________________________________________\n",
            "Layer (type)                 Output Shape              Param #   \n",
            "=================================================================\n",
            "conv2d_1 (Conv2D)            (None, 32, 32, 32)        896       \n",
            "_________________________________________________________________\n",
            "dropout_1 (Dropout)          (None, 32, 32, 32)        0         \n",
            "_________________________________________________________________\n",
            "max_pooling2d_1 (MaxPooling2 (None, 16, 16, 32)        0         \n",
            "_________________________________________________________________\n",
            "conv2d_2 (Conv2D)            (None, 16, 16, 64)        18496     \n",
            "_________________________________________________________________\n",
            "dropout_2 (Dropout)          (None, 16, 16, 64)        0         \n",
            "_________________________________________________________________\n",
            "max_pooling2d_2 (MaxPooling2 (None, 8, 8, 64)          0         \n",
            "_________________________________________________________________\n",
            "flatten_1 (Flatten)          (None, 4096)              0         \n",
            "_________________________________________________________________\n",
            "dense_1 (Dense)              (None, 1024)              4195328   \n",
            "_________________________________________________________________\n",
            "dropout_3 (Dropout)          (None, 1024)              0         \n",
            "_________________________________________________________________\n",
            "dense_2 (Dense)              (None, 10)                10250     \n",
            "=================================================================\n",
            "Total params: 4,224,970\n",
            "Trainable params: 4,224,970\n",
            "Non-trainable params: 0\n",
            "_________________________________________________________________\n",
            "None\n"
          ],
          "name": "stdout"
        }
      ]
    },
    {
      "cell_type": "code",
      "metadata": {
        "id": "mILrqiSriLdk",
        "colab_type": "code",
        "outputId": "f6ee13cf-edb6-4388-aad3-a38e89a586f4",
        "colab": {
          "base_uri": "https://localhost:8080/",
          "height": 275
        }
      },
      "source": [
        "#三、训练模型\n",
        "model.compile(loss='categorical_crossentropy', optimizer='adam', metrics=['accuracy'])\n",
        "train_history = model.fit(x=x_img_train_normalize, y=y_label_train_OneHot, validation_split=0.2, epochs=5, batch_size=128, verbose=2)"
      ],
      "execution_count": 0,
      "outputs": [
        {
          "output_type": "stream",
          "text": [
            "WARNING:tensorflow:From /usr/local/lib/python3.6/dist-packages/tensorflow/python/ops/math_ops.py:3066: to_int32 (from tensorflow.python.ops.math_ops) is deprecated and will be removed in a future version.\n",
            "Instructions for updating:\n",
            "Use tf.cast instead.\n",
            "Train on 40000 samples, validate on 10000 samples\n",
            "Epoch 1/5\n",
            " - 137s - loss: 1.5475 - acc: 0.4429 - val_loss: 1.3639 - val_acc: 0.5522\n",
            "Epoch 2/5\n",
            " - 136s - loss: 1.1907 - acc: 0.5783 - val_loss: 1.1924 - val_acc: 0.6020\n",
            "Epoch 3/5\n",
            " - 136s - loss: 1.0248 - acc: 0.6391 - val_loss: 1.0816 - val_acc: 0.6327\n",
            "Epoch 4/5\n",
            " - 136s - loss: 0.9225 - acc: 0.6748 - val_loss: 1.0112 - val_acc: 0.6703\n",
            "Epoch 5/5\n",
            " - 135s - loss: 0.8221 - acc: 0.7104 - val_loss: 0.9674 - val_acc: 0.6713\n"
          ],
          "name": "stdout"
        }
      ]
    },
    {
      "cell_type": "code",
      "metadata": {
        "id": "G7ra4915dGql",
        "colab_type": "code",
        "outputId": "6ea70dac-1a03-416d-f37f-3c021e7db43b",
        "colab": {
          "base_uri": "https://localhost:8080/",
          "height": 295
        }
      },
      "source": [
        "#03.显示训练过程\n",
        "%matplotlib inline\n",
        "import matplotlib.pyplot as plt\n",
        "def show_train_history(train_history, train, validation):\n",
        "  plt.plot(train_history.history[train])\n",
        "  plt.plot(train_history.history[validation])\n",
        "  plt.title('train_history')\n",
        "  plt.ylabel(train)\n",
        "  plt.xlabel('Epoch')\n",
        "  plt.legend(['train', 'validation'], loc='upper left')\n",
        "  plt.show()\n",
        "\n",
        "show_train_history(train_history, 'acc', 'val_acc')"
      ],
      "execution_count": 0,
      "outputs": [
        {
          "output_type": "display_data",
          "data": {
            "image/png": "[encoded data removed]",
            "text/plain": [
              "<Figure size 432x288 with 1 Axes>"
            ]
          },
          "metadata": {
            "tags": []
          }
        }
      ]
    },
    {
      "cell_type": "code",
      "metadata": {
        "id": "Af-DXPoQkq0V",
        "colab_type": "code",
        "outputId": "3124db29-aad4-46f8-ae75-e7b33faeb17e",
        "colab": {
          "base_uri": "https://localhost:8080/",
          "height": 51
        }
      },
      "source": [
        "#四、评估模型准确率\n",
        "scores = model.evaluate(x_img_test_normalize, y_label_test_OneHot)\n",
        "scores[1]"
      ],
      "execution_count": 0,
      "outputs": [
        {
          "output_type": "stream",
          "text": [
            "10000/10000 [==============================] - 10s 962us/step\n"
          ],
          "name": "stdout"
        },
        {
          "output_type": "execute_result",
          "data": {
            "text/plain": [
              "0.6676"
            ]
          },
          "metadata": {
            "tags": []
          },
          "execution_count": 15
        }
      ]
    },
    {
      "cell_type": "code",
      "metadata": {
        "id": "4dcBz1CVkuBH",
        "colab_type": "code",
        "outputId": "f17c4173-5c94-44a8-eb41-e1f460f0bd89",
        "colab": {
          "base_uri": "https://localhost:8080/",
          "height": 390
        }
      },
      "source": [
        "#五、进行预测\n",
        "predicted_Probability = model.predict(x_img_test_normalize)\n",
        "prediction = model.predict_classes(x_img_test_normalize)\n",
        "\n",
        "import pandas as pd\n",
        "pd.crosstab(y_label_test.reshape(-1), prediction, rownames=['labels'], colnames=['predict'])"
      ],
      "execution_count": 0,
      "outputs": [
        {
          "output_type": "execute_result",
          "data": {
            "text/html": [
              "<div>\n",
              "<style scoped>\n",
              "    .dataframe tbody tr th:only-of-type {\n",
              "        vertical-align: middle;\n",
              "    }\n",
              "\n",
              "    .dataframe tbody tr th {\n",
              "        vertical-align: top;\n",
              "    }\n",
              "\n",
              "    .dataframe thead th {\n",
              "        text-align: right;\n",
              "    }\n",
              "</style>\n",
              "<table border=\"1\" class=\"dataframe\">\n",
              "  <thead>\n",
              "    <tr style=\"text-align: right;\">\n",
              "      <th>predict</th>\n",
              "      <th>0</th>\n",
              "      <th>1</th>\n",
              "      <th>2</th>\n",
              "      <th>3</th>\n",
              "      <th>4</th>\n",
              "      <th>5</th>\n",
              "      <th>6</th>\n",
              "      <th>7</th>\n",
              "      <th>8</th>\n",
              "      <th>9</th>\n",
              "    </tr>\n",
              "    <tr>\n",
              "      <th>labels</th>\n",
              "      <th></th>\n",
              "      <th></th>\n",
              "      <th></th>\n",
              "      <th></th>\n",
              "      <th></th>\n",
              "      <th></th>\n",
              "      <th></th>\n",
              "      <th></th>\n",
              "      <th></th>\n",
              "      <th></th>\n",
              "    </tr>\n",
              "  </thead>\n",
              "  <tbody>\n",
              "    <tr>\n",
              "      <th>0</th>\n",
              "      <td>711</td>\n",
              "      <td>9</td>\n",
              "      <td>96</td>\n",
              "      <td>27</td>\n",
              "      <td>24</td>\n",
              "      <td>7</td>\n",
              "      <td>7</td>\n",
              "      <td>8</td>\n",
              "      <td>89</td>\n",
              "      <td>22</td>\n",
              "    </tr>\n",
              "    <tr>\n",
              "      <th>1</th>\n",
              "      <td>35</td>\n",
              "      <td>706</td>\n",
              "      <td>27</td>\n",
              "      <td>31</td>\n",
              "      <td>7</td>\n",
              "      <td>13</td>\n",
              "      <td>16</td>\n",
              "      <td>14</td>\n",
              "      <td>42</td>\n",
              "      <td>109</td>\n",
              "    </tr>\n",
              "    <tr>\n",
              "      <th>2</th>\n",
              "      <td>50</td>\n",
              "      <td>2</td>\n",
              "      <td>657</td>\n",
              "      <td>61</td>\n",
              "      <td>105</td>\n",
              "      <td>49</td>\n",
              "      <td>35</td>\n",
              "      <td>27</td>\n",
              "      <td>12</td>\n",
              "      <td>2</td>\n",
              "    </tr>\n",
              "    <tr>\n",
              "      <th>3</th>\n",
              "      <td>10</td>\n",
              "      <td>4</td>\n",
              "      <td>130</td>\n",
              "      <td>496</td>\n",
              "      <td>115</td>\n",
              "      <td>155</td>\n",
              "      <td>50</td>\n",
              "      <td>27</td>\n",
              "      <td>7</td>\n",
              "      <td>6</td>\n",
              "    </tr>\n",
              "    <tr>\n",
              "      <th>4</th>\n",
              "      <td>21</td>\n",
              "      <td>1</td>\n",
              "      <td>119</td>\n",
              "      <td>51</td>\n",
              "      <td>719</td>\n",
              "      <td>22</td>\n",
              "      <td>20</td>\n",
              "      <td>34</td>\n",
              "      <td>12</td>\n",
              "      <td>1</td>\n",
              "    </tr>\n",
              "    <tr>\n",
              "      <th>5</th>\n",
              "      <td>9</td>\n",
              "      <td>1</td>\n",
              "      <td>123</td>\n",
              "      <td>171</td>\n",
              "      <td>95</td>\n",
              "      <td>548</td>\n",
              "      <td>13</td>\n",
              "      <td>33</td>\n",
              "      <td>6</td>\n",
              "      <td>1</td>\n",
              "    </tr>\n",
              "    <tr>\n",
              "      <th>6</th>\n",
              "      <td>3</td>\n",
              "      <td>1</td>\n",
              "      <td>106</td>\n",
              "      <td>63</td>\n",
              "      <td>116</td>\n",
              "      <td>25</td>\n",
              "      <td>681</td>\n",
              "      <td>3</td>\n",
              "      <td>1</td>\n",
              "      <td>1</td>\n",
              "    </tr>\n",
              "    <tr>\n",
              "      <th>7</th>\n",
              "      <td>12</td>\n",
              "      <td>2</td>\n",
              "      <td>62</td>\n",
              "      <td>42</td>\n",
              "      <td>117</td>\n",
              "      <td>57</td>\n",
              "      <td>6</td>\n",
              "      <td>696</td>\n",
              "      <td>3</td>\n",
              "      <td>3</td>\n",
              "    </tr>\n",
              "    <tr>\n",
              "      <th>8</th>\n",
              "      <td>55</td>\n",
              "      <td>29</td>\n",
              "      <td>44</td>\n",
              "      <td>26</td>\n",
              "      <td>19</td>\n",
              "      <td>12</td>\n",
              "      <td>10</td>\n",
              "      <td>4</td>\n",
              "      <td>789</td>\n",
              "      <td>12</td>\n",
              "    </tr>\n",
              "    <tr>\n",
              "      <th>9</th>\n",
              "      <td>47</td>\n",
              "      <td>70</td>\n",
              "      <td>26</td>\n",
              "      <td>42</td>\n",
              "      <td>17</td>\n",
              "      <td>16</td>\n",
              "      <td>18</td>\n",
              "      <td>32</td>\n",
              "      <td>59</td>\n",
              "      <td>673</td>\n",
              "    </tr>\n",
              "  </tbody>\n",
              "</table>\n",
              "</div>"
            ],
            "text/plain": [
              "predict    0    1    2    3    4    5    6    7    8    9\n",
              "labels                                                   \n",
              "0        711    9   96   27   24    7    7    8   89   22\n",
              "1         35  706   27   31    7   13   16   14   42  109\n",
              "2         50    2  657   61  105   49   35   27   12    2\n",
              "3         10    4  130  496  115  155   50   27    7    6\n",
              "4         21    1  119   51  719   22   20   34   12    1\n",
              "5          9    1  123  171   95  548   13   33    6    1\n",
              "6          3    1  106   63  116   25  681    3    1    1\n",
              "7         12    2   62   42  117   57    6  696    3    3\n",
              "8         55   29   44   26   19   12   10    4  789   12\n",
              "9         47   70   26   42   17   16   18   32   59  673"
            ]
          },
          "metadata": {
            "tags": []
          },
          "execution_count": 18
        }
      ]
    },
    {
      "cell_type": "code",
      "metadata": {
        "id": "kJF-vA_jl9c-",
        "colab_type": "code",
        "outputId": "f3f49b00-ca88-4b45-f9cd-05ae58e48668",
        "colab": {
          "base_uri": "https://localhost:8080/",
          "height": 51
        }
      },
      "source": [
        "#六、模型的保存与加载\n",
        "model.save_weights(\"/content/cifarCnnModel.h5\")\n",
        "print(\"Saved model to disk.\")\n",
        "try:\n",
        "  model.load_weights(\"/content/cifarCnnModel.h5\")\n",
        "  print(\"模型加载成功！\")\n",
        "except:\n",
        "  print(\"模型加载失败！\")"
      ],
      "execution_count": 0,
      "outputs": [
        {
          "output_type": "stream",
          "text": [
            "Saved model to disk.\n",
            "模型加载成功！\n"
          ],
          "name": "stdout"
        }
      ]
    }
  ]
}