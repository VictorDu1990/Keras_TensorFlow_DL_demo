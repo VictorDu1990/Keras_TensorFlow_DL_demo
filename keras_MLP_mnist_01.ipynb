{
  "nbformat": 4,
  "nbformat_minor": 0,
  "metadata": {
    "colab": {
      "name": "keras_MLP_mnist_01.ipynb",
      "version": "0.3.2",
      "provenance": [],
      "collapsed_sections": [],
      "include_colab_link": true
    },
    "kernelspec": {
      "name": "python3",
      "display_name": "Python 3"
    }
  },
  "cells": [
    {
      "cell_type": "markdown",
      "metadata": {
        "id": "view-in-github",
        "colab_type": "text"
      },
      "source": [
        "<a href=\"https://colab.research.google.com/github/VictorDu1990/Keras_TensorFlow_DL_demo/blob/master/keras_MLP_mnist_01.ipynb\" target=\"_parent\"><img src=\"https://colab.research.google.com/assets/colab-badge.svg\" alt=\"Open In Colab\"/></a>"
      ]
    },
    {
      "cell_type": "code",
      "metadata": {
        "id": "6AcTzjyP_SYE",
        "colab_type": "code",
        "outputId": "b707adaf-ed9f-4605-f59e-d6ff4a1e5673",
        "colab": {
          "base_uri": "https://localhost:8080/",
          "height": 102
        }
      },
      "source": [
        "#一、数据预处理\n",
        "#01.导入所需模块\n",
        "from keras.utils import np_utils\n",
        "import numpy as np\n",
        "from keras.datasets import mnist\n",
        "#02.读取mnist数据\n",
        "(x_train_image, y_train_label), (x_test_image, y_test_label) = mnist.load_data()\n",
        "#03.数据预处理\n",
        "x_Train = x_train_image.reshape(60000, 784).astype('float32')\n",
        "x_Test = x_test_image.reshape(10000, 784).astype('float32')\n",
        "\n",
        "x_Train_normalize = x_Train / 255\n",
        "x_Test_normalize = x_Test / 255\n",
        "print(y_test_label.shape)\n",
        "y_Train_OneHot = np_utils.to_categorical(y_train_label)\n",
        "y_Test_OneHot = np_utils.to_categorical(y_test_label)\n",
        "print(y_Test_OneHot.shape)"
      ],
      "execution_count": 1,
      "outputs": [
        {
          "output_type": "stream",
          "text": [
            "Using TensorFlow backend.\n"
          ],
          "name": "stderr"
        },
        {
          "output_type": "stream",
          "text": [
            "Downloading data from https://s3.amazonaws.com/img-datasets/mnist.npz\n",
            "11493376/11490434 [==============================] - 0s 0us/step\n",
            "(10000,)\n",
            "(10000, 10)\n"
          ],
          "name": "stdout"
        }
      ]
    },
    {
      "cell_type": "code",
      "metadata": {
        "id": "k0261_bJFfDE",
        "colab_type": "code",
        "outputId": "0b4b2e91-103e-43dd-8a93-1aa08b1f7d47",
        "colab": {
          "base_uri": "https://localhost:8080/",
          "height": 292
        }
      },
      "source": [
        "#二、建立模型\n",
        "#01.导入所需模块\n",
        "from keras.models import Sequential\n",
        "from keras.layers import Dense\n",
        "#02.建立sequential 模型\n",
        "model = Sequential()\n",
        "#03.建立网络层（输入层，隐藏层，输出层）\n",
        "model.add(Dense(units=256, input_dim=784, kernel_initializer='normal', activation='relu'))\n",
        "model.add(Dense(units=10, kernel_initializer='normal', activation='softmax'))\n",
        "\n",
        "print(model.summary())"
      ],
      "execution_count": 3,
      "outputs": [
        {
          "output_type": "stream",
          "text": [
            "WARNING:tensorflow:From /usr/local/lib/python3.6/dist-packages/tensorflow/python/framework/op_def_library.py:263: colocate_with (from tensorflow.python.framework.ops) is deprecated and will be removed in a future version.\n",
            "Instructions for updating:\n",
            "Colocations handled automatically by placer.\n",
            "_________________________________________________________________\n",
            "Layer (type)                 Output Shape              Param #   \n",
            "=================================================================\n",
            "dense_1 (Dense)              (None, 256)               200960    \n",
            "_________________________________________________________________\n",
            "dense_2 (Dense)              (None, 10)                2570      \n",
            "=================================================================\n",
            "Total params: 203,530\n",
            "Trainable params: 203,530\n",
            "Non-trainable params: 0\n",
            "_________________________________________________________________\n",
            "None\n"
          ],
          "name": "stdout"
        }
      ]
    },
    {
      "cell_type": "code",
      "metadata": {
        "id": "JsbySs5wKAjb",
        "colab_type": "code",
        "outputId": "bd493836-2baa-48ad-e637-27a99c97088f",
        "colab": {
          "base_uri": "https://localhost:8080/",
          "height": 445
        }
      },
      "source": [
        "#三、进行训练\n",
        "#01.定义训练方式\n",
        "model.compile(loss='categorical_crossentropy', optimizer='adam', metrics=['accuracy'])\n",
        "#02.开始训练\n",
        "train_history = model.fit(x=x_Train_normalize, y=y_Train_OneHot, validation_split=0.2, epochs=10, batch_size=200, verbose=2)\n",
        "\n"
      ],
      "execution_count": 4,
      "outputs": [
        {
          "output_type": "stream",
          "text": [
            "WARNING:tensorflow:From /usr/local/lib/python3.6/dist-packages/tensorflow/python/ops/math_ops.py:3066: to_int32 (from tensorflow.python.ops.math_ops) is deprecated and will be removed in a future version.\n",
            "Instructions for updating:\n",
            "Use tf.cast instead.\n",
            "Train on 48000 samples, validate on 12000 samples\n",
            "Epoch 1/10\n",
            " - 3s - loss: 0.4412 - acc: 0.8817 - val_loss: 0.2175 - val_acc: 0.9403\n",
            "Epoch 2/10\n",
            " - 2s - loss: 0.1879 - acc: 0.9464 - val_loss: 0.1561 - val_acc: 0.9555\n",
            "Epoch 3/10\n",
            " - 2s - loss: 0.1327 - acc: 0.9619 - val_loss: 0.1299 - val_acc: 0.9633\n",
            "Epoch 4/10\n",
            " - 2s - loss: 0.1007 - acc: 0.9715 - val_loss: 0.1095 - val_acc: 0.9676\n",
            "Epoch 5/10\n",
            " - 2s - loss: 0.0806 - acc: 0.9774 - val_loss: 0.1005 - val_acc: 0.9698\n",
            "Epoch 6/10\n",
            " - 2s - loss: 0.0655 - acc: 0.9821 - val_loss: 0.0949 - val_acc: 0.9712\n",
            "Epoch 7/10\n",
            " - 2s - loss: 0.0540 - acc: 0.9856 - val_loss: 0.0878 - val_acc: 0.9731\n",
            "Epoch 8/10\n",
            " - 2s - loss: 0.0447 - acc: 0.9878 - val_loss: 0.0902 - val_acc: 0.9730\n",
            "Epoch 9/10\n",
            " - 2s - loss: 0.0372 - acc: 0.9906 - val_loss: 0.0855 - val_acc: 0.9743\n",
            "Epoch 10/10\n",
            " - 2s - loss: 0.0320 - acc: 0.9921 - val_loss: 0.0867 - val_acc: 0.9748\n"
          ],
          "name": "stdout"
        }
      ]
    },
    {
      "cell_type": "code",
      "metadata": {
        "id": "Ujr82NzwOBv7",
        "colab_type": "code",
        "outputId": "c109e538-2a2a-4f44-c56e-8293c9219f3b",
        "colab": {
          "base_uri": "https://localhost:8080/",
          "height": 295
        }
      },
      "source": [
        "#03.显示训练过程\n",
        "%matplotlib inline\n",
        "import matplotlib.pyplot as plt\n",
        "def show_train_history(train_history, train, validation):\n",
        "  plt.plot(train_history.history[train])\n",
        "  plt.plot(train_history.history[validation])\n",
        "  plt.title('train_history')\n",
        "  plt.ylabel(train)\n",
        "  plt.xlabel('Epoch')\n",
        "  plt.legend(['train', 'validation'], loc='upper left')\n",
        "  plt.show()\n",
        "\n",
        "show_train_history(train_history, 'acc', 'val_acc')"
      ],
      "execution_count": 5,
      "outputs": [
        {
          "output_type": "display_data",
          "data": {
            "image/png": "[encoded data removed]",
            "text/plain": [
              "<Figure size 432x288 with 1 Axes>"
            ]
          },
          "metadata": {
            "tags": []
          }
        }
      ]
    },
    {
      "cell_type": "code",
      "metadata": {
        "id": "x1qH4oyvOoW1",
        "colab_type": "code",
        "outputId": "568cf170-7567-44d8-957d-956d479403cf",
        "colab": {
          "base_uri": "https://localhost:8080/",
          "height": 441
        }
      },
      "source": [
        "#四、模型评估及进行预测\n",
        "#01.评估模型准确率\n",
        "scores = model.evaluate(x_Test_normalize, y_Test_OneHot)\n",
        "print()\n",
        "print('accuracy: ', scores[1])\n",
        "#02.执行预测\n",
        "prediction = model.predict_classes(x_Test)\n",
        "#03.显示混淆矩阵\n",
        "import pandas as pd\n",
        "pd.crosstab(y_test_label, prediction, rownames=['label'], colnames=['predict'])"
      ],
      "execution_count": 6,
      "outputs": [
        {
          "output_type": "stream",
          "text": [
            "10000/10000 [==============================] - 0s 36us/step\n",
            "\n",
            "accuracy:  0.9756\n"
          ],
          "name": "stdout"
        },
        {
          "output_type": "execute_result",
          "data": {
            "text/html": [
              "<div>\n",
              "<style scoped>\n",
              "    .dataframe tbody tr th:only-of-type {\n",
              "        vertical-align: middle;\n",
              "    }\n",
              "\n",
              "    .dataframe tbody tr th {\n",
              "        vertical-align: top;\n",
              "    }\n",
              "\n",
              "    .dataframe thead th {\n",
              "        text-align: right;\n",
              "    }\n",
              "</style>\n",
              "<table border=\"1\" class=\"dataframe\">\n",
              "  <thead>\n",
              "    <tr style=\"text-align: right;\">\n",
              "      <th>predict</th>\n",
              "      <th>0</th>\n",
              "      <th>1</th>\n",
              "      <th>2</th>\n",
              "      <th>3</th>\n",
              "      <th>4</th>\n",
              "      <th>5</th>\n",
              "      <th>6</th>\n",
              "      <th>7</th>\n",
              "      <th>8</th>\n",
              "      <th>9</th>\n",
              "    </tr>\n",
              "    <tr>\n",
              "      <th>label</th>\n",
              "      <th></th>\n",
              "      <th></th>\n",
              "      <th></th>\n",
              "      <th></th>\n",
              "      <th></th>\n",
              "      <th></th>\n",
              "      <th></th>\n",
              "      <th></th>\n",
              "      <th></th>\n",
              "      <th></th>\n",
              "    </tr>\n",
              "  </thead>\n",
              "  <tbody>\n",
              "    <tr>\n",
              "      <th>0</th>\n",
              "      <td>971</td>\n",
              "      <td>0</td>\n",
              "      <td>2</td>\n",
              "      <td>2</td>\n",
              "      <td>2</td>\n",
              "      <td>0</td>\n",
              "      <td>1</td>\n",
              "      <td>1</td>\n",
              "      <td>1</td>\n",
              "      <td>0</td>\n",
              "    </tr>\n",
              "    <tr>\n",
              "      <th>1</th>\n",
              "      <td>0</td>\n",
              "      <td>1126</td>\n",
              "      <td>4</td>\n",
              "      <td>0</td>\n",
              "      <td>0</td>\n",
              "      <td>0</td>\n",
              "      <td>1</td>\n",
              "      <td>0</td>\n",
              "      <td>4</td>\n",
              "      <td>0</td>\n",
              "    </tr>\n",
              "    <tr>\n",
              "      <th>2</th>\n",
              "      <td>7</td>\n",
              "      <td>3</td>\n",
              "      <td>1008</td>\n",
              "      <td>0</td>\n",
              "      <td>2</td>\n",
              "      <td>0</td>\n",
              "      <td>4</td>\n",
              "      <td>4</td>\n",
              "      <td>4</td>\n",
              "      <td>0</td>\n",
              "    </tr>\n",
              "    <tr>\n",
              "      <th>3</th>\n",
              "      <td>2</td>\n",
              "      <td>0</td>\n",
              "      <td>8</td>\n",
              "      <td>989</td>\n",
              "      <td>0</td>\n",
              "      <td>1</td>\n",
              "      <td>2</td>\n",
              "      <td>2</td>\n",
              "      <td>5</td>\n",
              "      <td>1</td>\n",
              "    </tr>\n",
              "    <tr>\n",
              "      <th>4</th>\n",
              "      <td>1</td>\n",
              "      <td>1</td>\n",
              "      <td>2</td>\n",
              "      <td>0</td>\n",
              "      <td>962</td>\n",
              "      <td>0</td>\n",
              "      <td>5</td>\n",
              "      <td>1</td>\n",
              "      <td>1</td>\n",
              "      <td>9</td>\n",
              "    </tr>\n",
              "    <tr>\n",
              "      <th>5</th>\n",
              "      <td>4</td>\n",
              "      <td>0</td>\n",
              "      <td>0</td>\n",
              "      <td>18</td>\n",
              "      <td>1</td>\n",
              "      <td>848</td>\n",
              "      <td>8</td>\n",
              "      <td>1</td>\n",
              "      <td>8</td>\n",
              "      <td>4</td>\n",
              "    </tr>\n",
              "    <tr>\n",
              "      <th>6</th>\n",
              "      <td>4</td>\n",
              "      <td>3</td>\n",
              "      <td>5</td>\n",
              "      <td>1</td>\n",
              "      <td>3</td>\n",
              "      <td>3</td>\n",
              "      <td>938</td>\n",
              "      <td>0</td>\n",
              "      <td>1</td>\n",
              "      <td>0</td>\n",
              "    </tr>\n",
              "    <tr>\n",
              "      <th>7</th>\n",
              "      <td>1</td>\n",
              "      <td>7</td>\n",
              "      <td>13</td>\n",
              "      <td>2</td>\n",
              "      <td>0</td>\n",
              "      <td>0</td>\n",
              "      <td>0</td>\n",
              "      <td>996</td>\n",
              "      <td>1</td>\n",
              "      <td>8</td>\n",
              "    </tr>\n",
              "    <tr>\n",
              "      <th>8</th>\n",
              "      <td>7</td>\n",
              "      <td>1</td>\n",
              "      <td>9</td>\n",
              "      <td>6</td>\n",
              "      <td>4</td>\n",
              "      <td>2</td>\n",
              "      <td>2</td>\n",
              "      <td>2</td>\n",
              "      <td>940</td>\n",
              "      <td>1</td>\n",
              "    </tr>\n",
              "    <tr>\n",
              "      <th>9</th>\n",
              "      <td>4</td>\n",
              "      <td>6</td>\n",
              "      <td>0</td>\n",
              "      <td>9</td>\n",
              "      <td>8</td>\n",
              "      <td>0</td>\n",
              "      <td>0</td>\n",
              "      <td>8</td>\n",
              "      <td>4</td>\n",
              "      <td>970</td>\n",
              "    </tr>\n",
              "  </tbody>\n",
              "</table>\n",
              "</div>"
            ],
            "text/plain": [
              "predict    0     1     2    3    4    5    6    7    8    9\n",
              "label                                                      \n",
              "0        971     0     2    2    2    0    1    1    1    0\n",
              "1          0  1126     4    0    0    0    1    0    4    0\n",
              "2          7     3  1008    0    2    0    4    4    4    0\n",
              "3          2     0     8  989    0    1    2    2    5    1\n",
              "4          1     1     2    0  962    0    5    1    1    9\n",
              "5          4     0     0   18    1  848    8    1    8    4\n",
              "6          4     3     5    1    3    3  938    0    1    0\n",
              "7          1     7    13    2    0    0    0  996    1    8\n",
              "8          7     1     9    6    4    2    2    2  940    1\n",
              "9          4     6     0    9    8    0    0    8    4  970"
            ]
          },
          "metadata": {
            "tags": []
          },
          "execution_count": 6
        }
      ]
    },
    {
      "cell_type": "code",
      "metadata": {
        "id": "iq3k_BkwRSF8",
        "colab_type": "code",
        "outputId": "3c7fa488-cac8-4a2f-e48b-b0632fbc9034",
        "colab": {
          "base_uri": "https://localhost:8080/",
          "height": 326
        }
      },
      "source": [
        "#五、模型优化\n",
        "#01.隐藏层神经元增加到1000,加入DropOut层\n",
        "from keras.models import Sequential\n",
        "from keras.layers import Dense, Dropout\n",
        "model_2 = Sequential()\n",
        "model_2.add(Dense(units=1000, input_dim=784, kernel_initializer='normal', activation='relu'))\n",
        "model_2.add(Dropout(0.5))\n",
        "model_2.add(Dense(units=10, kernel_initializer='normal', activation='softmax'))\n",
        "print(model_2.summary())"
      ],
      "execution_count": 7,
      "outputs": [
        {
          "output_type": "stream",
          "text": [
            "WARNING:tensorflow:From /usr/local/lib/python3.6/dist-packages/keras/backend/tensorflow_backend.py:3445: calling dropout (from tensorflow.python.ops.nn_ops) with keep_prob is deprecated and will be removed in a future version.\n",
            "Instructions for updating:\n",
            "Please use `rate` instead of `keep_prob`. Rate should be set to `rate = 1 - keep_prob`.\n",
            "_________________________________________________________________\n",
            "Layer (type)                 Output Shape              Param #   \n",
            "=================================================================\n",
            "dense_3 (Dense)              (None, 1000)              785000    \n",
            "_________________________________________________________________\n",
            "dropout_1 (Dropout)          (None, 1000)              0         \n",
            "_________________________________________________________________\n",
            "dense_4 (Dense)              (None, 10)                10010     \n",
            "=================================================================\n",
            "Total params: 795,010\n",
            "Trainable params: 795,010\n",
            "Non-trainable params: 0\n",
            "_________________________________________________________________\n",
            "None\n"
          ],
          "name": "stdout"
        }
      ]
    },
    {
      "cell_type": "code",
      "metadata": {
        "id": "EibqRW0dTAOR",
        "colab_type": "code",
        "outputId": "fa934c1f-5697-44fd-ca6a-32e38d937ea1",
        "colab": {
          "base_uri": "https://localhost:8080/",
          "height": 374
        }
      },
      "source": [
        "#02.定义训练方式\n",
        "model_2.compile(loss='categorical_crossentropy', optimizer='adam', metrics=['accuracy'])\n",
        "#03.开始训练\n",
        "train_history = model_2.fit(x=x_Train_normalize, y=y_Train_OneHot, validation_split=0.2, epochs=10, batch_size=200, verbose=2)"
      ],
      "execution_count": 8,
      "outputs": [
        {
          "output_type": "stream",
          "text": [
            "Train on 48000 samples, validate on 12000 samples\n",
            "Epoch 1/10\n",
            " - 7s - loss: 0.3559 - acc: 0.8926 - val_loss: 0.1591 - val_acc: 0.9548\n",
            "Epoch 2/10\n",
            " - 7s - loss: 0.1582 - acc: 0.9532 - val_loss: 0.1143 - val_acc: 0.9664\n",
            "Epoch 3/10\n",
            " - 7s - loss: 0.1178 - acc: 0.9650 - val_loss: 0.0978 - val_acc: 0.9709\n",
            "Epoch 4/10\n",
            " - 7s - loss: 0.0904 - acc: 0.9727 - val_loss: 0.0872 - val_acc: 0.9743\n",
            "Epoch 5/10\n",
            " - 7s - loss: 0.0760 - acc: 0.9769 - val_loss: 0.0834 - val_acc: 0.9751\n",
            "Epoch 6/10\n",
            " - 7s - loss: 0.0643 - acc: 0.9806 - val_loss: 0.0737 - val_acc: 0.9774\n",
            "Epoch 7/10\n",
            " - 7s - loss: 0.0559 - acc: 0.9830 - val_loss: 0.0701 - val_acc: 0.9787\n",
            "Epoch 8/10\n",
            " - 7s - loss: 0.0469 - acc: 0.9854 - val_loss: 0.0692 - val_acc: 0.9784\n",
            "Epoch 9/10\n",
            " - 7s - loss: 0.0427 - acc: 0.9866 - val_loss: 0.0678 - val_acc: 0.9804\n",
            "Epoch 10/10\n",
            " - 7s - loss: 0.0355 - acc: 0.9889 - val_loss: 0.0685 - val_acc: 0.9792\n"
          ],
          "name": "stdout"
        }
      ]
    }
  ]
}