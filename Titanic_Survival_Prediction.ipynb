{
  "nbformat": 4,
  "nbformat_minor": 0,
  "metadata": {
    "colab": {
      "name": "Titanic_Survival_Prediction.ipynb",
      "version": "0.3.2",
      "provenance": [],
      "include_colab_link": true
    },
    "kernelspec": {
      "name": "python3",
      "display_name": "Python 3"
    }
  },
  "cells": [
    {
      "cell_type": "markdown",
      "metadata": {
        "id": "view-in-github",
        "colab_type": "text"
      },
      "source": [
        "<a href=\"https://colab.research.google.com/github/VictorDu1990/Keras_TensorFlow_DL_demo/blob/master/Titanic_Survival_Prediction.ipynb\" target=\"_parent\"><img src=\"https://colab.research.google.com/assets/colab-badge.svg\" alt=\"Open In Colab\"/></a>"
      ]
    },
    {
      "cell_type": "code",
      "metadata": {
        "id": "HfkZWLPvEYkI",
        "colab_type": "code",
        "colab": {}
      },
      "source": [
        "#demo of Deep Learning Studio\n",
        "\n",
        "from keras.layers import Dropout\n",
        "from keras.layers import Dense\n",
        "from keras.layers import Input\n",
        "from keras.layers import Input\n",
        "from keras.models import Model\n",
        "from keras.regularizers import *\n",
        "\n",
        "\n",
        "def get_model():\n",
        "\taliases = {}\n",
        "\tInput_1 = Input(shape=(7,), name='Input_1')\n",
        "\tDense_1 = Dense(name='Dense_1',activation= 'relu' ,output_dim= 100)(Input_1)\n",
        "\tDropout_1 = Dropout(name='Dropout_1',p= 0.2)(Dense_1)\n",
        "\tDense_2 = Dense(name='Dense_2',activation= 'softmax' ,output_dim= 2)(Dropout_1)\n",
        "\n",
        "\tmodel = Model([Input_1],[Dense_2])\n",
        "\treturn aliases, model\n",
        "\n",
        "\n",
        "from keras.optimizers import *\n",
        "\n",
        "def get_optimizer():\n",
        "\treturn Adadelta()\n",
        "\n",
        "def is_custom_loss_function():\n",
        "\treturn False\n",
        "\n",
        "def get_loss_function():\n",
        "\treturn 'categorical_crossentropy'\n",
        "\n",
        "def get_batch_size():\n",
        "\treturn 32\n",
        "\n",
        "def get_num_epoch():\n",
        "\treturn 20\n",
        "\n",
        "def get_data_config():\n",
        "\treturn '{\"samples\": {\"validation\": 131, \"training\": 1052, \"split\": \"3\", \"test\": 131}, \"mapping\": {\"survived\": {\"port\": \"OutputPort0\", \"type\": \"Categorical\"}, \"sex\": {\"port\": \"InputPort0\", \"type\": \"Categorical\"}, \"age\": {\"port\": \"InputPort0\", \"type\": \"Categorical\"}, \"class\": {\"port\": \"InputPort0\", \"type\": \"Categorical\"}}, \"dataset\": {\"type\": \"public\", \"samples\": 1316, \"name\": \"titanic\"}}'"
      ],
      "execution_count": 0,
      "outputs": []
    }
  ]
}